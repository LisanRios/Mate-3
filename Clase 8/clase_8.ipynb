{
 "cells": [
  {
   "cell_type": "code",
   "execution_count": 1,
   "metadata": {},
   "outputs": [
    {
     "name": "stdout",
     "output_type": "stream",
     "text": [
      "Berlin {'10317', '12109', '12305', '10437', '13129', '12359', '10625', '10829', '13439', '12163', '13591', '14053', '14169', '13088', '12679', '12353', '10243', '13599', '12619', '12524', '10409', '10551', '10119', '10715', '12557', '14165', '13597', '10369', '12045', '10559', '12057', '12349', '12051', '12103', '12105', '10719', '12589', '13465', '12355', '10178', '10823', '10785', '10787', '13055', '12435', '12629', '13187', '10789', '10553', '12101', '13403', '12207', '12055', '10585', '10247', '10967', '13509', '12627', '14195', '12165', '13347', '13089', '14050', '13125', '13086', '10367', '12526', '12203', '10555', '13503', '13355', '12489', '12107', '12555', '13593', '13158', '12357', '13357', '10963', '14059', '10961', '13469', '10245', '13127', '13405', '13353', '12277', '10781', '13351', '12437', '13057', '13189', '12459', '13349', '12683', '13581', '12167', '10439', '10623', '13051', '12527', '10783', '12681', '10717', '13407', '10115', '10587', '12049', '12247', '13627', '10589', '12309', '14163', '12161', '14055', '10179', '12157', '12043', '14052', '14109', '12205', '12559', '13409', '10827', '10969', '10627', '12059', '12623', '12047', '14193', '10407', '10997', '13589', '12279', '12249', '13437', '13587', '10319', '12099', '13585', '12159', '12439', '12685', '12689', '10318', '10709', '10365', '13359', '14197', '12351', '10249', '12487', '12053', '13505', '10779', '14129', '12307', '10825', '14057', '14167', '13595', '10557', '14089', '13159', '13467', '10711', '12687', '10713', '10405', '10965', '10435', '13156', '13435', '12209', '13583', '12169', '13629', '10707', '10117', '10315', '10777', '12347', '10629', '12587', '13053', '13507', '12621', '10999', '13059', '14199'}\n",
      "\n",
      "\n",
      "Hamburg {'22335', '21029', '21077', '20144', '22303', '22455', '22305', '22301', '22159', '20359', '22523', '21033', '22453', '21035', '22119', '20257', '21129', '22297', '22337', '21149', '22117', '20255', '22457', '22587', '22309', '21073', '21079', '22609', '20357', '22111', '22767', '20253', '22149', '20097', '21031', '20249', '22145', '21109', '22529', '22087', '22761', '27499', '22607', '22359', '20354', '22399', '22177', '22391', '22397', '21147', '20535', '22175', '22605', '22041', '22769', '22047', '22339', '22307', '22395', '22419', '21037', '20095', '22049', '22547', '20251', '22417', '20457', '22045', '22415', '21039', '20355', '21075', '22589', '22043', '22081', '22459', '22113', '22085', '21107', '20259', '20459', '22115', '22147', '20537', '20149', '22765', '22299', '22143', '22559', '22089', '22083', '22549', '22179', '20146', '22393', '20099', '20539', '22763', '20148', '22525', '22527'}\n",
      "\n",
      "\n",
      "München {'81739', '80798', '81241', '80539', '80937', '80636', '80995', '80639', '81539', '80939', '81825', '80337', '80799', '80336', '81927', '85540', '81249', '81737', '80804', '80935', '81377', '81547', '81477', '80809', '80333', '80689', '80634', '80992', '81245', '81827', '81379', '80803', '81829', '80997', '80686', '80801', '80805', '80331', '80339', '80538', '81243', '81475', '80335', '81476', '81545', '81673', '81679', '81925', '81543', '81247', '81369', '81735', '80637', '81541', '81479', '80993', '81373', '81549', '81671', '81371', '80933', '81669', '81929', '80687', '80797', '81675', '80796', '81375', '81667', '81677', '80638', '80999', '80469', '80802', '80807'}\n",
      "\n",
      "\n",
      "Köln {'51107', '51061', '50996', '50767', '50739', '51467', '50931', '50737', '50676', '51143', '50670', '50859', '51063', '51065', '50674', '50677', '51109', '50939', '51147', '50858', '50678', '50829', '50933', '50968', '50765', '50969', '51103', '50827', '51149', '50935', '50672', '50733', '50825', '50667', '50679', '50997', '51069', '50937', '50735', '50668', '51145', '50769', '51105', '50999', '50823', '51067'}\n",
      "\n",
      "\n",
      "Frankfurt am Main {'60438', '65933', '60311', '60314', '60435', '60528', '65929', '60487', '60529', '60308', '60594', '60596', '60385', '60598', '60320', '65931', '60488', '60389', '60388', '60323', '60318', '60329', '60489', '65934', '65936', '60599', '60313', '60437', '60386', '60549', '60306', '60439', '60326', '60327', '60431', '60486', '60325', '60322', '60433', '60310', '60316'}\n",
      "\n",
      "\n",
      "Essen {'45139', '45307', '45128', '45329', '45359', '45277', '45147', '45309', '45257', '45356', '45289', '45357', '45149', '45133', '45279', '45327', '45239', '45276', '45141', '45145', '45326', '45259', '45130', '45138', '45144', '45143', '45127', '45134', '45355', '45131', '45136', '45219'}\n",
      "\n",
      "\n",
      "Dortmund {'44269', '44359', '44229', '44145', '44289', '44149', '44357', '44339', '44328', '44369', '44287', '44329', '44139', '44141', '44309', '44319', '44263', '44267', '44135', '44137', '44143', '44147', '44379', '44225', '44265', '44388', '44227'}\n",
      "\n",
      "\n",
      "Stuttgart {'70191', '70174', '70176', '70372', '70192', '70178', '70184', '70188', '70629', '70329', '70195', '70619', '70563', '70469', '70567', '70186', '70199', '70327', '70565', '70190', '70569', '70599', '70437', '70435', '70180', '70499', '70597', '70374', '70197', '70182', '70193', '70376', '70378', '70439', '70173'}\n",
      "\n",
      "\n",
      "Düsseldorf {'40468', '40547', '40721', '40211', '40235', '40549', '40217', '40595', '40629', '40625', '40223', '40227', '40489', '40470', '40239', '40479', '40627', '40545', '40229', '40219', '40225', '40589', '40212', '40213', '40476', '40591', '40599', '40233', '40237', '40472', '40597', '40231', '40474', '40210', '40477', '40221', '40215', '40593'}\n",
      "\n",
      "\n",
      "Bremen {'28205', '28279', '28203', '28215', '28201', '28359', '27568', '28777', '28213', '28327', '28719', '28211', '28755', '28217', '28239', '28199', '28717', '28779', '28357', '28757', '28355', '28195', '28329', '28237', '28259', '28309', '28759', '28207', '28325', '28197', '28307', '28219', '28209', '28277'}\n",
      "\n",
      "\n",
      "Hannover {'30169', '30165', '30161', '30539', '30419', '30519', '30627', '30659', '30669', '30449', '30629', '30179', '30521', '30171', '30167', '30173', '30655', '30177', '30175', '30457', '30459', '30455', '30625', '30453', '30657', '30451', '30559', '30163', '30159'}\n",
      "\n",
      "\n",
      "Duisburg {'47228', '47137', '47249', '47059', '47119', '47259', '47279', '47179', '47169', '47139', '47138', '47239', '47198', '47055', '47199', '47226', '47051', '47058', '47269', '47178', '47053', '47057', '47229', '47166', '47167'}\n",
      "\n",
      "\n",
      "Leipzig {'4155', '4207', '4277', '4157', '4328', '4103', '4209', '4275', '4288', '4318', '4329', '4349', '4129', '4178', '4177', '4158', '4319', '4159', '4179', '4205', '4279', '4105', '4299', '4357', '4109', '4249', '4289', '4315', '4347', '4316', '4229', '4107', '4317', '4356'}\n",
      "\n",
      "\n",
      "Nürnberg {'90408', '90451', '90443', '90473', '90427', '90459', '90478', '90439', '90403', '90475', '90491', '90480', '90489', '90453', '90419', '90449', '90429', '90441', '90455', '90431', '90469', '90482', '90402', '90409', '90461', '90471', '90425', '90411'}\n",
      "\n",
      "\n",
      "Dresden {'1257', '1219', '1328', '1307', '1279', '1108', '1067', '1217', '1239', '1156', '1097', '1109', '1187', '1129', '1189', '1169', '1237', '1157', '1099', '1139', '1127', '1277', '1324', '1069', '1159', '1309', '1259', '1465', '1326'}\n",
      "\n",
      "\n",
      "Bochum {'44894', '44789', '44791', '44793', '44801', '44797', '44803', '44867', '44892', '44795', '44809', '44805', '44807', '44866', '44869', '44787', '44799', '44879'}\n",
      "\n",
      "\n",
      "Wuppertal {'42369', '42105', '42119', '42327', '42111', '42279', '42283', '42117', '42349', '42109', '42281', '42113', '42287', '42329', '42277', '42103', '42275', '42115', '42399', '42107', '42289', '42285', '42389'}\n",
      "\n",
      "\n",
      "Bielefeld {'33617', '33647', '33689', '33604', '33609', '33607', '33729', '33739', '33602', '33619', '33699', '33659', '33605', '33719', '33615', '33649', '33613', '33611'}\n",
      "\n",
      "\n",
      "Mannheim {'68161', '68307', '68169', '68259', '68163', '68229', '68305', '68309', '68239', '68219', '68165', '68159', '68199', '68167'}\n",
      "\n",
      "\n"
     ]
    }
   ],
   "source": [
    "import re\n",
    "import pandas as pd\n",
    "\n",
    "with open(\"archs/codigos_postales.txt\", encoding=\"utf-8\") as f_codigos_postales:\n",
    " codigos = {}\n",
    " for linea in f_codigos_postales:\n",
    "    res1 = re.search(r\"[\\d ]+([^\\d]+[a-z])\\s(\\d+)\", linea)\n",
    "    if res1:\n",
    "        ciudad, cp = res1.groups()\n",
    "        if ciudad in codigos:\n",
    "            codigos[ciudad].add(cp)\n",
    "        else:\n",
    "            codigos[ciudad] = {cp}\n",
    "with open(\"archs/ciudades.txt\", encoding=\"utf-8\") as f_ciudades:\n",
    "    for linea in f_ciudades:\n",
    "        res2 = re.search(r\"^[0-9]{1,2}\\.\\s+([\\w\\s-]+\\w)\\s+[0-9]\", linea)\n",
    "        ciudad = res2.group(1)\n",
    "        print(ciudad, codigos[ciudad])\n",
    "        print('\\n') "
   ]
  },
  {
   "cell_type": "code",
   "execution_count": 4,
   "metadata": {},
   "outputs": [
    {
     "name": "stdout",
     "output_type": "stream",
     "text": [
      "             Date      Time Latitude  Longitude  Depth Magnitude Type\n",
      "0      01/02/1965  13:44:18   19.246    145.616  131.6             MW\n",
      "1      01/04/1965  11:29:49    1.863    127.352     80             MW\n",
      "2      01/05/1965  18:05:58  -20.579   -173.972     20             MW\n",
      "3      01/08/1965  18:49:43  -59.076    -23.557     15             MW\n",
      "4      01/09/1965  13:32:50   11.938    126.427     15             MW\n",
      "...           ...       ...      ...        ...    ...            ...\n",
      "23407  12/28/2016  08:22:12  38.3917  -118.8941   12.3             ML\n",
      "23408  12/28/2016  09:13:47  38.3777  -118.8957    8.8             ML\n",
      "23409  12/28/2016  12:38:51  36.9179   140.4262     10            MWW\n",
      "23410  12/29/2016  22:30:19  -9.0283   118.6639     79            MWW\n",
      "23411  12/30/2016  20:08:28  37.3973   141.4103  11.94             MB\n",
      "\n",
      "[23412 rows x 6 columns]\n"
     ]
    }
   ],
   "source": [
    "import pandas as pd\n",
    "cols = ['Date', 'Time', 'Latitude', 'Longitude', 'Depth', 'Magnitude Type']\n",
    "df_e = pd.read_csv(f'archs/earthquakes_1965_2016_database.csv.zip', dtype=str)[cols]\n",
    "print(df_e)"
   ]
  },
  {
   "cell_type": "code",
   "execution_count": 1,
   "metadata": {},
   "outputs": [
    {
     "name": "stdout",
     "output_type": "stream",
     "text": [
      "                                         internship         company_name  \\\n",
      "0                                  Software Testing       Times Internet   \n",
      "1  Technical Operations - Networking And Monitoring  Paytm Payments Bank   \n",
      "2                       Software Project Management           IIT Bombay   \n",
      "3                                   Web Development           IIT Bombay   \n",
      "4                             Front End Development           IIT Bombay   \n",
      "\n",
      "                                              skills  \\\n",
      "0                                   Software Testing   \n",
      "1  Java, SQL, Unix, Oracle, MS SQL Server, Hibern...   \n",
      "2  English Proficiency (Spoken), English Proficie...   \n",
      "3                   HTML, CSS, Flask, Python, Django   \n",
      "4              HTML, CSS, JavaScript, ReactJS, Redux   \n",
      "\n",
      "                                               perks        location  \\\n",
      "0                         Certificate, 5 days a week           Noida   \n",
      "1  Certificate, Letter of recommendation, 5 days ...           Noida   \n",
      "2  Certificate, Letter of recommendation, Flexibl...  Work From Home   \n",
      "3  Certificate, Letter of recommendation, Flexibl...  Work From Home   \n",
      "4  Certificate, Letter of recommendation, Flexibl...  Work From Home   \n",
      "\n",
      "   duration           stipend      applicants  \\\n",
      "0  6 Months       8000 /month  119 applicants   \n",
      "1  6 Months      10000 /month  194 applicants   \n",
      "2  6 Months  1000-2000 /month  113 applicants   \n",
      "3  6 Months  1000-2000 /month  183 applicants   \n",
      "4  6 Months  1000-2000 /month  205 applicants   \n",
      "\n",
      "                       ifSkillsorPerksMissingUseThis  \n",
      "0       Software Testing, Certificate\\n5 days a week  \n",
      "1  Java\\nSQL\\nUnix\\nOracle\\nMS SQL Server\\nHibern...  \n",
      "2  English Proficiency (Spoken)\\nEnglish Proficie...  \n",
      "3  HTML\\nCSS\\nFlask\\nPython\\nDjango, Certificate\\...  \n",
      "4  HTML\\nCSS\\nJavaScript\\nReactJS\\nRedux, Certifi...  \n"
     ]
    }
   ],
   "source": [
    "import pandas as pd\n",
    "df = pd.read_csv(f'archs/internshala_dataset_raw.csv')\n",
    "print(df.head())\n"
   ]
  },
  {
   "cell_type": "code",
   "execution_count": 5,
   "metadata": {},
   "outputs": [
    {
     "name": "stdout",
     "output_type": "stream",
     "text": [
      "                                         internship         company_name  \\\n",
      "0                                  Software Testing       Times Internet   \n",
      "1  Technical Operations - Networking And Monitoring  Paytm Payments Bank   \n",
      "2                       Software Project Management           IIT Bombay   \n",
      "3                                   Web Development           IIT Bombay   \n",
      "4                             Front End Development           IIT Bombay   \n",
      "\n",
      "                                              skills  \\\n",
      "0                                   Software Testing   \n",
      "1  Java, SQL, Unix, Oracle, MS SQL Server, Hibern...   \n",
      "2  English Proficiency (Spoken), English Proficie...   \n",
      "3                   HTML, CSS, Flask, Python, Django   \n",
      "4              HTML, CSS, JavaScript, ReactJS, Redux   \n",
      "\n",
      "                                               perks        location  \\\n",
      "0                         Certificate, 5 days a week           Noida   \n",
      "1  Certificate, Letter of recommendation, 5 days ...           Noida   \n",
      "2  Certificate, Letter of recommendation, Flexibl...  Work From Home   \n",
      "3  Certificate, Letter of recommendation, Flexibl...  Work From Home   \n",
      "4  Certificate, Letter of recommendation, Flexibl...  Work From Home   \n",
      "\n",
      "   duration           stipend      applicants  \\\n",
      "0  6 Months       8000 /month  119 applicants   \n",
      "1  6 Months      10000 /month  194 applicants   \n",
      "2  6 Months  1000-2000 /month  113 applicants   \n",
      "3  6 Months  1000-2000 /month  183 applicants   \n",
      "4  6 Months  1000-2000 /month  205 applicants   \n",
      "\n",
      "                       ifSkillsorPerksMissingUseThis  \n",
      "0       Software Testing, Certificate\\n5 days a week  \n",
      "1  Java\\nSQL\\nUnix\\nOracle\\nMS SQL Server\\nHibern...  \n",
      "2  English Proficiency (Spoken)\\nEnglish Proficie...  \n",
      "3  HTML\\nCSS\\nFlask\\nPython\\nDjango, Certificate\\...  \n",
      "4  HTML\\nCSS\\nJavaScript\\nReactJS\\nRedux, Certifi...  \n"
     ]
    }
   ],
   "source": [
    "import pandas as pd\n",
    "df = pd.read_csv(f'archs/internshala_dataset_raw.csv')\n",
    "print(df.head())\n"
   ]
  },
  {
   "cell_type": "code",
   "execution_count": 2,
   "metadata": {},
   "outputs": [
    {
     "name": "stderr",
     "output_type": "stream",
     "text": [
      "C:\\Users\\ivaga\\AppData\\Local\\Temp\\ipykernel_3756\\2858468088.py:10: FutureWarning: Passing literal html to 'read_html' is deprecated and will be removed in a future version. To read from a literal string, wrap it in a 'StringIO' object.\n",
      "  df_population = pd.read_html(str(data))[0]\n"
     ]
    }
   ],
   "source": [
    "import csv\n",
    "import requests\n",
    "from bs4 import BeautifulSoup\n",
    "import pandas as pd\n",
    "\n",
    "url = \"https://www.worldometers.info/world-population/population-by-country/\"\n",
    "req = requests.get(url)\n",
    "soup = BeautifulSoup(req.text)\n",
    "data = soup.find_all(\"table\")[0]\n",
    "df_population = pd.read_html(str(data))[0]\n",
    "df_population.head()\n",
    "export_csv = df_population.to_csv(r\"archivo.csv\", index = None, header = True)\n"
   ]
  },
  {
   "cell_type": "code",
   "execution_count": null,
   "metadata": {},
   "outputs": [],
   "source": [
    "import datetime\n",
    "df['indice_tiempo'] = pd.to_datetime(df['indice_tiempo'], format='%d/%m/%Y')\n",
    "df['año'], df['mes'] = df['indice_tiempo'].dt.year, df['indice_tiempo'].dt.month\n",
    "df = df.drop(df[df['año'] < 2010].index)\n",
    "\n",
    "df.to_csv('archs/comercio-interno-2.csv')\n",
    "\n",
    "fig = plt.figure(figsize=(8,8))\n",
    "ax = fig.add_subplot(111)\n",
    "df.groupby('alcance_nombre')['valor'].sum().plot(kind='pie',\n",
    " legend='Reverse',\n",
    "autopct='%0.2f %%',\n",
    "fontsize=6,\n",
    "labels=None,\n",
    "pctdistance=1.10\n",
    " )\n",
    "plt.axis('equal')\n",
    "plt.ylabel('')\n",
    "plt.tight_layout()\n",
    "plt.title('Comercio interno por\\nProvincias y CABA\\n de 2010 a 2019', weight='bold', size=14)\n"
   ]
  }
 ],
 "metadata": {
  "kernelspec": {
   "display_name": "Python 3",
   "language": "python",
   "name": "python3"
  },
  "language_info": {
   "codemirror_mode": {
    "name": "ipython",
    "version": 3
   },
   "file_extension": ".py",
   "mimetype": "text/x-python",
   "name": "python",
   "nbconvert_exporter": "python",
   "pygments_lexer": "ipython3",
   "version": "3.12.3"
  }
 },
 "nbformat": 4,
 "nbformat_minor": 2
}
