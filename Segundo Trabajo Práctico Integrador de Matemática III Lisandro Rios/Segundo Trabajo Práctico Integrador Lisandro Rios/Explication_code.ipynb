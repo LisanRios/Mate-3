{
 "cells": [
  {
   "cell_type": "markdown",
   "metadata": {},
   "source": [
    "# Trabajo Práctico Integrador de Machine Learning\n",
    "## Análisis de Datos y Modelo Predictivo basado en Regresión\n",
    "### Autor: Lisandro Rios\n",
    "\n",
    "### Introducción\n",
    "Este trabajo práctico tiene como objetivo desarrollar un análisis de datos y la creación de un modelo predictivo basado en técnicas de regresión. El conjunto de datos elegido es Criptomonedas, Bolsa de Valores y Inflación que se haseleccionado por el cresiente inpacto en la vida diaria y la posibilidad de tarabajar con siencia de datos."
   ]
  },
  {
   "cell_type": "markdown",
   "metadata": {},
   "source": [
    "## A continuación, una breve introduccion al tema de las criptomonedas\n",
    "1. **Conceptos básicos de criptomonedas:**\n",
    "   - Criptomonedas son monedas digitales creadas con tecnología blockchain.\n",
    "   - Blockchain es un sistema de registro descentralizado que organiza datos en bloques y los protege con criptografía.\n",
    "   - Se utilizan para transacciones entre pares, finanzas descentralizadas, almacenamiento, juegos y reservas de valor.\n",
    "\n",
    "2. **Tipos de criptomonedas:**\n",
    "   - Criptomonedas nativas de la tecnología blockchain de \"capa uno\" incluyen Bitcoin, utilizado como almacén de valor.\n",
    "   - Altcoins, como Ethereum, tienen blockchains nativas similares y ofrecen smart contracts y aplicaciones descentralizadas.\n",
    "   - Blockchains de \"capa dos\", como Polygon, mejoran la escalabilidad y velocidad de transacción.\n",
    "   - Stablecoins están vinculadas a monedas reales como el dólar estadounidense.\n",
    "   - Memecoins, como Dogecoin, son populares pero pueden carecer de un propósito definido.\n",
    "\n",
    "3. **Riesgos y consideraciones:**\n",
    "   - Las criptomonedas varían en riesgo, con las de \"capa uno\" y mayor capitalización consideradas menos riesgosas.\n",
    "   - Memecoins pueden ser riesgosas y susceptibles a esquemas de estafa o \"pump and dump\".\n",
    "   - El mercado de criptomonedas es especulativo y arriesgado, con más de la mitad de las criptomonedas fracasando desde 2014.\n"
   ]
  },
  {
   "cell_type": "markdown",
   "metadata": {},
   "source": [
    "## A continuación, una breve introducción al tema de la bolsa de valores y las acciones en las empresas\n",
    "1. **Conceptos básicos de la bolsa de valores:**\n",
    "   - La bolsa de valores es un mercado organizado donde se compran y venden acciones de empresas públicas.\n",
    "   - Las acciones representan una fracción del capital social de una empresa y otorgan derechos de propiedad sobre la misma.\n",
    "   - La bolsa permite la transferencia de acciones entre inversores y proporciona liquidez al mercado financiero.\n",
    "\n",
    "2. **Tipos de acciones:**\n",
    "   - **Acciones ordinarias:** otorgan derechos de voto en las juntas de accionistas y dividendos variables según las ganancias de la empresa.\n",
    "   - **Acciones preferentes:** no suelen otorgar derechos de voto, pero ofrecen dividendos fijos y tienen prioridad sobre las acciones ordinarias en el pago de dividendos y liquidación.\n",
    "   - **Acciones de crecimiento:** pertenecen a empresas con alto potencial de crecimiento, que suelen reinvertir sus ganancias para expandirse en lugar de pagar dividendos.\n",
    "   - **Acciones de valor:** pertenecen a empresas bien establecidas con precios de acciones considerados bajos en relación con sus fundamentales financieros.\n",
    "   - **Acciones cíclicas y defensivas:** las cíclicas están ligadas al ciclo económico (como las del sector automotriz), mientras que las defensivas son menos sensibles a los cambios económicos (como las de servicios públicos).\n",
    "\n",
    "3. **Riesgos y consideraciones:**\n",
    "   - **Volatilidad del mercado:** los precios de las acciones pueden fluctuar considerablemente en función de factores económicos, políticos y de la empresa.\n",
    "   - **Riesgo de empresa:** factores específicos de una empresa, como mala gestión o problemas financieros, pueden afectar negativamente el valor de sus acciones.\n",
    "   - **Diversificación:** invertir en una variedad de acciones puede mitigar el riesgo, ya que disminuye la dependencia de una sola inversión.\n",
    "   - **Rendimiento a largo plazo:** históricamente, el mercado de valores ha ofrecido rendimientos positivos a largo plazo, aunque las inversiones en acciones pueden ser más arriesgadas a corto plazo.\n",
    "   - **Evaluación fundamental y técnica:** los inversores utilizan análisis fundamental (examinando los estados financieros y perspectivas de la empresa) y análisis técnico (observando los movimientos históricos de los precios) para tomar decisiones informadas.\n"
   ]
  },
  {
   "cell_type": "markdown",
   "metadata": {},
   "source": [
    "## A continuación, una breve introducción al tema del el cambio del dólar blue a peso argentino\n",
    "\n",
    "1. **Conceptos básicos del dólar blue:**\n",
    "   - El dólar blue es una cotización del dólar estadounidense en el mercado informal o paralelo en Argentina.\n",
    "   - Surge como resultado de restricciones cambiarias impuestas por el gobierno, que limitan la cantidad de dólares que se pueden comprar en el mercado oficial.\n",
    "   - El tipo de cambio del dólar blue suele ser más alto que el oficial, reflejando la oferta y demanda en el mercado informal.\n",
    "\n",
    "2. **Factores que influyen en el tipo de cambio del dólar blue:**\n",
    "   - **Inflación:** La alta inflación en Argentina devalúa el peso, incrementando la demanda de dólares como refugio de valor.\n",
    "   - **Política monetaria:** Las restricciones cambiarias y la emisión de dinero por parte del gobierno afectan la disponibilidad y el valor del dólar blue.\n",
    "   - **Expectativas económicas:** La percepción de estabilidad económica y política influye en la demanda de dólares, afectando su cotización en el mercado paralelo.\n",
    "   - **Fuga de capitales:** La salida de capitales del país debido a la falta de confianza en la economía argentina puede aumentar la demanda de dólares blue.\n",
    "\n",
    "4. **Riesgos y consideraciones:**\n",
    "   - **Volatilidad:** El tipo de cambio del dólar blue es altamente volátil y puede cambiar bruscamente en respuesta a noticias económicas o políticas.\n",
    "   - **Legalidad:** Operar en el mercado del dólar blue puede estar asociado a riesgos legales, ya que se trata de un mercado informal no regulado.\n",
    "   - **Diferencial cambiario:** La brecha significativa entre el dólar oficial y el dólar blue puede generar distorsiones en la economía, afectando tanto a consumidores como a empresas.\n",
    "   - **Políticas de estabilización:** Las políticas gubernamentales para controlar el tipo de cambio y la inflación, como la implementación de cepos cambiarios, tienen impactos profundos en el mercado del dólar blue y en la economía en general."
   ]
  },
  {
   "cell_type": "markdown",
   "metadata": {},
   "source": [
    "A continuación procedere a explicar el funcionamiento del codigo"
   ]
  },
  {
   "cell_type": "markdown",
   "metadata": {},
   "source": [
    "### Importamos las librerias necesarias"
   ]
  },
  {
   "cell_type": "code",
   "execution_count": 78,
   "metadata": {},
   "outputs": [],
   "source": [
    "# Importar las librerías necesarias\n",
    "import os\n",
    "import csv\n",
    "import pandas as pd\n",
    "import numpy as np\n",
    "import plotly.express as px\n",
    "import matplotlib.pyplot as plt\n",
    "import requests\n",
    "from bs4 import BeautifulSoup\n",
    "from sklearn.linear_model import LinearRegression\n",
    "from sklearn.model_selection import train_test_split\n",
    "from datetime import datetime, timedelta\n",
    "from itertools import cycle"
   ]
  },
  {
   "cell_type": "markdown",
   "metadata": {},
   "source": [
    "### Definición de funciones\n",
    "Primero, voy a definir las funciones que se van a utilizar a lo largo del programa. "
   ]
  },
  {
   "cell_type": "markdown",
   "metadata": {},
   "source": [
    "El objetivo principal del código era que scrapear una página qué va actualizando constantemente el valor de la criptomoneda elegida, debido a que la tecnología scraping no se adapta a una página que está en constante actualización ( tiempo real ), se decidio por descargar los datos en formato csv de la pagina \"investing.com\".\n",
    " - Formato de busqueda de la criptomoneda a utilizar: https://es.investing.com/crypto/{cripto}/historical-data\n",
    " - Remplazar la palabra {cripto} por la criptomoneda deseada.\n",
    "\n",
    "El principal problema de desarrollar este código puede transformar los datos de la tabla la siguiente función reorganiza el archivo csv para que pueda ser utilizado de manera efectiva.\n",
    "Mas adelante en el codigo se utilizo scraping para la recolecion de datos de las acciones de las companias y los valores del dolar blue a argentino."
   ]
  },
  {
   "cell_type": "code",
   "execution_count": 79,
   "metadata": {},
   "outputs": [],
   "source": [
    "# Función para convertir el formato de fecha\n",
    "def convert_date(date):\n",
    "    return datetime.strptime(date, \"%d.%m.%Y\").strftime(\"%Y-%m-%d %H:%M:%S\")\n",
    "\n",
    "# Función para leer el archivo CSV de entrada y escribir en el archivo CSV de salida\n",
    "def transform_csv(input_file, output_file, cripto):\n",
    "    # Obtener la ruta del directorio para el archivo de salida\n",
    "    output_dir = os.path.dirname(output_file)\n",
    "    # Crear el directorio si no existe\n",
    "    os.makedirs(output_dir, exist_ok=True)\n",
    "    \n",
    "    with open(input_file, mode='r', encoding='utf-8-sig') as csv_file:\n",
    "        csv_reader = csv.reader(csv_file, delimiter=',')\n",
    "        next(csv_reader)  # Saltar la primera fila (encabezados)\n",
    "        data = list(csv_reader)\n",
    "        data.reverse()  # Invertir el orden de las filas\n",
    "        with open(output_file, mode='w', encoding='utf-8', newline='') as output_csv:\n",
    "            csv_writer = csv.writer(output_csv)\n",
    "            # Escribir los encabezados para el nuevo formato\n",
    "            csv_writer.writerow([\"SNo\", \"Name\", \"Symbol\", \"Date\", \"High\", \"Low\", \"Open\", \"Close\", \"Volume\", \"Marketcap\"])\n",
    "            # Iterar sobre las filas del archivo de entrada\n",
    "            for idx, row in enumerate(data, start=1):\n",
    "                fecha = convert_date(row[0])  # Convertir la fecha al nuevo formato\n",
    "                # Reemplazar las comas y convertir números al formato adecuado\n",
    "                ultimo = float(row[1].replace('.', '').replace(',', '.'))\n",
    "                apertura = float(row[2].replace('.', '').replace(',', '.'))\n",
    "                maximo = float(row[3].replace('.', '').replace(',', '.'))\n",
    "                minimo = float(row[4].replace('.', '').replace(',', '.'))\n",
    "                vol = row[5].replace('K', '000').replace('.', '').replace(',', '.')\n",
    "                var = row[6].replace('%', '').replace(',', '.')\n",
    "                # Escribir la fila en el nuevo formato\n",
    "                csv_writer.writerow([idx, cripto, \"\", fecha, maximo, minimo, apertura, ultimo, vol, 0.0])\n",
    "    print(\"Transformación completada.\")"
   ]
  },
  {
   "cell_type": "markdown",
   "metadata": {},
   "source": [
    "Este cambio se da por la información dada en la columnas originales:\n",
    "Cada título se refiere a una columna típica que podrías encontrar en una tabla de datos financieros, específicamente en el contexto de cotizaciones de activos financieros como acciones o criptomonedas. Aquí te explico qué representa cada uno:\n",
    "\n",
    "1. **\"Fecha\":**\n",
    "   - Esta columna muestra la fecha en la que se registraron los datos de cotización correspondientes. Cada fila de la tabla representará un conjunto de datos para una fecha específica.\n",
    "\n",
    "2. **\"Último\":**\n",
    "   - Se refiere al último precio al que se negoció el activo financiero en el mercado en la fecha indicada. Es el precio más reciente registrado para ese día de negociación.\n",
    "\n",
    "3. **\"Apertura\":**\n",
    "   - Indica el precio de apertura del activo financiero al inicio de la sesión de negociación en esa fecha particular. Es el primer precio registrado cuando se abre el mercado.\n",
    "\n",
    "4. **\"Máximo\":**\n",
    "   - Es el precio más alto al que llegó el activo financiero durante la sesión de negociación en la fecha dada. Representa el punto máximo alcanzado por el precio durante ese día.\n",
    "\n",
    "5. **\"Mínimo\":**\n",
    "   - Representa el precio más bajo al que descendió el activo financiero durante la sesión de negociación en la fecha indicada. Es el punto mínimo registrado por el precio durante ese día.\n",
    "\n",
    "6. **\"Vol.\":**\n",
    "   - Abreviatura de volumen, indica la cantidad total de activos financieros (acciones, criptomonedas, etc.) que se negociaron durante la sesión de negociación en esa fecha. Puede estar expresado en unidades o en términos de dinero.\n",
    "\n",
    "7. **\"% var.\":**\n",
    "   - Esta columna muestra la variación porcentual del precio de cierre (último precio registrado) en comparación con el precio de cierre del día anterior. Es una medida del cambio porcentual en el precio del activo desde el cierre del día anterior hasta el cierre del día actual.\n"
   ]
  },
  {
   "cell_type": "markdown",
   "metadata": {},
   "source": [
    "Se cambio por la siguiente para mayor comodidad a la hora de analizar el csv:\n",
    "1. **\"SNo\":**\n",
    "   - Este probablemente sea un número de serie o un identificador único para cada registro en la tabla de datos. Es común en bases de datos para identificar de manera única cada entrada.\n",
    "\n",
    "2. **\"Name\":**\n",
    "   - Se refiere al nombre completo de la criptomoneda. Por ejemplo, Bitcoin, Ethereum, etc.\n",
    "\n",
    "3. **\"Symbol\":**\n",
    "   - Es el símbolo o abreviatura comúnmente utilizada para representar la criptomoneda. Por ejemplo, BTC para Bitcoin, ETH para Ethereum.\n",
    "\n",
    "4. **\"Date\":**\n",
    "   - Indica la fecha en la que se registraron los datos de cotización correspondientes. Cada fila de la tabla representará un conjunto de datos para una fecha específica.\n",
    "\n",
    "5. **\"High\":**\n",
    "   - Representa el precio más alto alcanzado por la criptomoneda durante el día o período de tiempo especificado.\n",
    "\n",
    "6. **\"Low\":**\n",
    "   - Indica el precio más bajo al que descendió la criptomoneda durante el día o período de tiempo especificado.\n",
    "\n",
    "7. **\"Open\":**\n",
    "   - Es el precio de apertura de la criptomoneda al inicio del período de tiempo especificado (por lo general, el día).\n",
    "\n",
    "8. **\"Close\":**\n",
    "   - Se refiere al precio de cierre de la criptomoneda al final del período de tiempo especificado (por lo general, el día). Es el último precio registrado antes del cierre del mercado.\n",
    "\n",
    "9. **\"Volume\":**\n",
    "   - Indica la cantidad total de la criptomoneda que se negoció durante el período de tiempo especificado. Puede estar expresado en unidades de la criptomoneda o en términos de su valor en una moneda fiat (por ejemplo, USD).\n",
    "\n",
    "10. **\"Marketcap\":**\n",
    "    - Es la capitalización de mercado de la criptomoneda en ese momento específico. Representa el valor total de todas las unidades de la criptomoneda en circulación multiplicado por el precio actual de mercado.\n"
   ]
  },
  {
   "cell_type": "markdown",
   "metadata": {},
   "source": [
    "Sin contar el cambio de formato de fecha y el orden de las filas (estan invertidas) ya que es el que se utiliza para el grafico en este caso."
   ]
  },
  {
   "cell_type": "markdown",
   "metadata": {},
   "source": [
    "Las columnas mas inportantes del progama son \"Date\" y \"prediction\" ya que es indispensable para el objetivo de predecir el valor del objeto a analizar."
   ]
  },
  {
   "cell_type": "code",
   "execution_count": 80,
   "metadata": {},
   "outputs": [],
   "source": [
    "# Función para cargar y preprocesar los datos\n",
    "def load_and_preprocess_data(output_file, projection_Table):\n",
    "    # Cargar los datos\n",
    "    Table = pd.read_csv(output_file)\n",
    "    # Asegúrate de que la columna 'Date' sea del tipo datetime\n",
    "    Table['Date'] = pd.to_datetime(Table['Date'])\n",
    "    # Creación de una nueva columna con el nombre 'Prediction'\n",
    "    Table['Prediction'] = Table[['Close']].shift(-int(projection_Table))\n",
    "    return Table"
   ]
  },
  {
   "cell_type": "markdown",
   "metadata": {},
   "source": [
    "Nesecitamos crear el conjunto dependiente e independiente"
   ]
  },
  {
   "cell_type": "code",
   "execution_count": 81,
   "metadata": {},
   "outputs": [],
   "source": [
    "# Función para crear los conjuntos de datos independientes (X) y dependientes (y)\n",
    "def create_datasets(Table, projection_Table):\n",
    "    # Crear el conjunto de datos independiente (X)\n",
    "    X_Table = np.array(Table[['Close']])\n",
    "    X_Table = X_Table[:-int(projection_Table)]\n",
    "    # Crear el conjunto de datos dependiente (y)\n",
    "    y_Table = Table['Prediction'].values\n",
    "    y_Table = y_Table[:-int(projection_Table)]\n",
    "    return X_Table, y_Table"
   ]
  },
  {
   "cell_type": "markdown",
   "metadata": {},
   "source": [
    "Al tener todo los datos listos es necesario entrenar al modelo no los datos que tenemos asi tenemos menor indice de error."
   ]
  },
  {
   "cell_type": "code",
   "execution_count": 82,
   "metadata": {},
   "outputs": [],
   "source": [
    "# Función para entrenar el modelo y hacer predicciones\n",
    "def train_and_predict(X, y, projection_Table):   \n",
    "    X_train, X_test, y_train, y_test = train_test_split(X, y, test_size=0.2)\n",
    "    model = LinearRegression()\n",
    "    model.fit(X_train, y_train)\n",
    "    # Calcular el puntaje R^2 del modelo\n",
    "    score = model.score(X_train, y_train)\n",
    "    X_forecast = X[-int(projection_Table):]\n",
    "    predictions = model.predict(X_forecast)\n",
    "    return predictions, score"
   ]
  },
  {
   "cell_type": "markdown",
   "metadata": {},
   "source": [
    "Ya que queremos \"predecir\" el valor de dichas tematicas, opte por crear un DataFrame con las \"predicciones futuras\"  en relacio a los datos analizados."
   ]
  },
  {
   "cell_type": "code",
   "execution_count": 83,
   "metadata": {},
   "outputs": [],
   "source": [
    "# Función para crear un DataFrame de predicciones futuras\n",
    "def create_future_dataframe(Table, pred_Table, projection_Table):\n",
    "    # Calcula las fechas futuras\n",
    "    future_dates = [Table['Date'].max() + timedelta(days=x) for x in range(1, int(projection_Table) + 1)]\n",
    "    future_df = pd.DataFrame({'Date': future_dates, 'Prediction': pred_Table})\n",
    "    return future_df\n"
   ]
  },
  {
   "cell_type": "markdown",
   "metadata": {},
   "source": [
    "Como los datos relacionados con la economia se relacionan mas con graficos de tiempo se implemento la misma para todos los pedidos que puede realizar el usuario"
   ]
  },
  {
   "cell_type": "code",
   "execution_count": 84,
   "metadata": {},
   "outputs": [],
   "source": [
    "# Función para visualizar los datos\n",
    "def visualize_data(Table, future_df, cripto):\n",
    "    # Concatenar el DataFrame original con el DataFrame de las predicciones\n",
    "    Table = pd.concat([Table, future_df])\n",
    "    # Visualización de los datos de la criptomoneda\n",
    "    visualize_Table = cycle(['Apertura', 'Último', 'Máximo', 'Mínimo', 'Predicción'])\n",
    "    fig = px.line(Table, x=Table.Date, y=[Table['Open'], Table['Close'], Table['High'], Table['Low'], Table['Prediction']],\n",
    "                  labels={'Date': 'Fecha', 'Close': 'Precio'})\n",
    "    fig.update_layout(title_text=cripto, font_size=15, font_color='black', legend_title_text='Parámetros')\n",
    "    fig.for_each_trace(lambda t: t.update(name=next(visualize_Table)))\n",
    "    fig.update_xaxes(showgrid=False)\n",
    "    fig.update_yaxes(showgrid=False)\n",
    "    fig.show()"
   ]
  },
  {
   "cell_type": "markdown",
   "metadata": {},
   "source": [
    "Esta función sirve para la validacion de los datos que desee analizar el usuario, esto se hizo para prevenir errores."
   ]
  },
  {
   "cell_type": "code",
   "execution_count": 85,
   "metadata": {},
   "outputs": [],
   "source": [
    "# Función para validar la entrada del usuario\n",
    "def validate_input(prompt, type_func, condition_func=lambda x: True, error_message=\"Entrada inválida. Por favor, inténtelo de nuevo.\"):\n",
    "    # Bucle infinito para seguir solicitando la entrada hasta que sea válida\n",
    "    while True:\n",
    "        try:\n",
    "            # Solicita la entrada del usuario y la convierte usando type_func\n",
    "            value = type_func(input(prompt))\n",
    "            # Verifica si el valor cumple con la condición especificada en condition_func\n",
    "            if condition_func(value):\n",
    "                # Si cumple, retorna el valor\n",
    "                return value\n",
    "            else:\n",
    "                # Si no cumple, muestra el mensaje de error\n",
    "                print(error_message)\n",
    "        except ValueError:\n",
    "            # Si ocurre un error de conversión, muestra el mensaje de error\n",
    "            print(error_message)\n"
   ]
  },
  {
   "cell_type": "markdown",
   "metadata": {},
   "source": [
    "Para retornar los valores, como la Regresión lineal y las prediciones se decidio hacer una funcion que retorne en todos los casos."
   ]
  },
  {
   "cell_type": "code",
   "execution_count": 86,
   "metadata": {},
   "outputs": [],
   "source": [
    "# Función para retornar la conclución \n",
    "def conclusion(score, pred_Table):\n",
    "            print(\"CONCLUSIÓN\\n\")\n",
    "            print(f\"Regresión lineal: {score} ({score*100}%)\")\n",
    "            print(f\"Las predicciones del modelo de regresión lineal para los próximos días son {pred_Table}\\n\")"
   ]
  },
  {
   "cell_type": "markdown",
   "metadata": {},
   "source": [
    "Una vez realizado esto se puede explicar el programa principal.\n"
   ]
  },
  {
   "cell_type": "markdown",
   "metadata": {},
   "source": [
    "## Función main()"
   ]
  },
  {
   "cell_type": "markdown",
   "metadata": {},
   "source": [
    "La función main() es la columna vertebral del codigo ya que es el lugar de donde se llaman a las funciónes y el usuario interactua. Ya que implementa un menú interactivo que permite al usuario seleccionar entre diferentes opciones relacionadas con el análisis de datos financieros."
   ]
  },
  {
   "cell_type": "markdown",
   "metadata": {},
   "source": [
    "El código proporcionado implementa un menú interactivo que permite al usuario seleccionar entre diferentes opciones relacionadas con el análisis de datos financieros. Vamos a desglosar cada sección del `main()` para entender cómo funciona:\n",
    "\n",
    "### Menú y Selección de Opción\n",
    "\n",
    "- **Descripción**: Aquí se muestra un menú con cuatro opciones numeradas. El usuario puede seleccionar una opción ingresando el número correspondiente.\n",
    "- **Función `validate_input`**: Se utiliza para asegurar que la entrada del usuario sea un número entero válido dentro del rango de 1 a 4.\n",
    "\n",
    "### Opción 1 - Criptomonedas\n",
    "\n",
    "- **Descripción**: Esta sección se ejecuta si el usuario elige la opción 1 (Criptomonedas). Permite al usuario ingresar el nombre de la criptomoneda a analizar y realiza varias operaciones:\n",
    "  - Verifica si existe un archivo CSV histórico para esa criptomoneda.\n",
    "  - Valida y solicita al usuario cuántos días desea proyectar hacia el futuro.\n",
    "  - Transforma los datos del archivo CSV histórico.\n",
    "  - Realiza el procesamiento de datos, incluyendo la creación de conjuntos de datos, entrenamiento de modelos y predicciones.\n",
    "  - Visualiza los datos y presenta una conclusión basada en las predicciones realizadas.\n",
    "\n",
    "### Opción 2 - Mercado de Valores\n",
    "\n",
    "- **Descripción**: Esta sección se ejecuta si el usuario elige la opción 2 (Mercado de Valores). Permite al usuario ingresar una URL personalizada de Investing.com que contenga datos históricos de valores.\n",
    "  - Descarga los datos de la tabla HTML de la página web proporcionada.\n",
    "  - Exporta los datos de la tabla a un archivo CSV temporal.\n",
    "  - Valida y solicita al usuario cuántos días desea proyectar hacia el futuro.\n",
    "  - Transforma los datos del archivo CSV temporal.\n",
    "  - Realiza el procesamiento de datos, incluyendo la creación de conjuntos de datos, entrenamiento de modelos y predicciones.\n",
    "  - Visualiza los datos y presenta una conclusión basada en las predicciones realizadas.\n",
    "\n",
    "### Opción 3 - Valor del Dólar a Peso Argentino\n",
    "\n",
    "- **Descripción**: Esta sección se ejecuta si el usuario elige la opción 3 (Valor del Dólar a Peso Argentino). Permite al usuario seleccionar entre dos tipos de dólar (Dólar Blue o Dólar oficial) y realiza las siguientes operaciones:\n",
    "  - Selecciona la URL adecuada según la opción del usuario y realiza la solicitud HTTP para obtener los datos.\n",
    "  - Extrae los datos de la tabla HTML correspondiente.\n",
    "  - Exporta los datos de la tabla a un archivo CSV.\n",
    " "
   ]
  },
  {
   "cell_type": "code",
   "execution_count": null,
   "metadata": {},
   "outputs": [],
   "source": [
    "# Función principal para ejecutar el análisis\n",
    "def main():\n",
    "    while True:\n",
    "        #Motrar el menú\n",
    "        print(\"Menú:\")\n",
    "        print(\"1. Criptomonedas\")\n",
    "        print(\"2. Mercado de valores (ingresar URL)\")\n",
    "        print(\"3. Valor dólar a peso argentino\")\n",
    "        print(\"4. Salir\")\n",
    "\n",
    "        #Controlar el error    \n",
    "        option = validate_input(\"Seleccione una opción: \", int, lambda x: 1 <= x <= 4, \"Opción inválida. Por favor, inténtelo de nuevo.\")\n",
    "\n",
    "        if option == 1:\n",
    "            #El usuario ingresa la criptomoneda a analizar\n",
    "            cripto = input(\"Ingrese el nombre de la criptomoneda que desea analizar: \")\n",
    "            \n",
    "            #Ruta a los archivos\n",
    "            input_file = f\"archive/Datos históricos del {cripto}.csv\"\n",
    "            output_file = f\"archive/datosActualizados_{cripto}.csv\"\n",
    "            \n",
    "            #Comprobar si existe en archive\n",
    "            if not os.path.isfile(input_file):\n",
    "                print(\"La criptomoneda especificada no se encontró. Por favor, inténtelo de nuevo.\")\n",
    "                continue\n",
    "            \n",
    "            #Validar los dias a proyectar\n",
    "            projection_days = validate_input(\"Proyección a días en el futuro: \", int, lambda x: x > 0, \"No se puede proyectar menos de 1 día en el futuro. Por favor, inténtelo de nuevo.\")\n",
    "            \n",
    "            #Transformar el archivo CSV           \n",
    "            transform_csv(input_file, output_file, cripto)\n",
    "            \n",
    "            # Procesamiento de datos y predicciones\n",
    "            Table = load_and_preprocess_data(output_file, projection_days)\n",
    "            X_Table, y_Table = create_datasets(Table, projection_days)\n",
    "            pred_Table, score = train_and_predict(X_Table, y_Table, projection_days)\n",
    "            future_df = create_future_dataframe(Table, pred_Table, projection_days)\n",
    "\n",
    "            # Visualización y conclusión\n",
    "            visualize_data(Table, future_df, cripto)\n",
    "            conclusion(score, pred_Table)\n",
    "        \n",
    "        elif option == 2:\n",
    "            cripto = \"Bolsa de Valores\"\n",
    "            \n",
    "            output_file = f\"archive/datosActualizados_{cripto}.csv\"\n",
    "            archivo_csv = f\"archive/archivo.csv\"\n",
    "            \n",
    "            custom_url = input(\"Ingrese la URL personalizada (dicha url debe ser de esta pagina investing.com/equities/NOMBRE-caracterEspecial-historical-data): \")\n",
    "            request = requests.get(custom_url)\n",
    "            soup = BeautifulSoup(request.text) \n",
    "            \n",
    "            # Extracción de datos de la tabla HTML\n",
    "            tabla_html = soup.find_all(\"table\")[1]\n",
    "            datos_tabla = pd.read_html(str(tabla_html))[0]\n",
    "            \n",
    "            # Exportar los datos de la tabla a un archivo CSV\n",
    "            datos_tabla.to_csv(archivo_csv, index=None, header=True)   \n",
    "            # Leer los datos del archivo CSV\n",
    "            datos_csv = pd.read_csv(archivo_csv)   \n",
    "            print(datos_csv.head())    \n",
    "            \n",
    "            projection_days = validate_input(\"Proyección a días en el futuro: \", int, lambda x: x > 0, \"No se puede proyectar menos de 1 día en el futuro. Por favor, inténtelo de nuevo.\")\n",
    "            \n",
    "            #Transformar el archivo CSV           \n",
    "            transform_csv(archivo_csv, output_file, cripto)\n",
    "            \n",
    "            # Procesamiento de datos y predicciones\n",
    "            Table = load_and_preprocess_data(output_file, projection_days)\n",
    "            X_Table, y_Table = create_datasets(Table, projection_days)\n",
    "            pred_Table, score = train_and_predict(X_Table, y_Table, projection_days)\n",
    "            future_df = create_future_dataframe(Table, pred_Table, projection_days)\n",
    "\n",
    "            # Visualización y conclusión\n",
    "            visualize_data(Table, future_df, \"Mercado de Valores\")\n",
    "            conclusion(score, pred_Table)\n",
    "        \n",
    "        elif option == 3:\n",
    "            # Definición de variables de archivo\n",
    "            cripto = \"Dolar a peso argentino\"\n",
    "            output_file = f\"archive/datosActualizados_{cripto}.csv\"\n",
    "            archivo_csv = f\"archive/archivo.csv\"\n",
    "\n",
    "            # Mostrar opciones al usuario\n",
    "            print(\"Opciones\")\n",
    "            print(\"1. Dolar Blue a peso argentino\")\n",
    "            print(\"2. Dolar a peso argentino\")\n",
    "\n",
    "            # Solicitar la opción del usuario\n",
    "            while True:\n",
    "                try:\n",
    "                    tipoDolar = int(input(\"Elegir el tipo de dolar a saber: \"))\n",
    "                    if tipoDolar in [1, 2]:\n",
    "                        break\n",
    "                    else:\n",
    "                        print(\"Por favor, elija una opción válida (1 o 2).\")\n",
    "                except ValueError:\n",
    "                    print(\"Entrada no válida. Por favor, ingrese un número (1 o 2).\")\n",
    "\n",
    "            # Seleccionar la URL basada en la opción del usuario\n",
    "            if tipoDolar == 1:\n",
    "                url = \"https://es.investing.com/currencies/usd-arsb-historical-data\"\n",
    "                tabla = 1\n",
    "            else:\n",
    "                url = \"https://es.investing.com/currencies/usd-ars-historical-data\"\n",
    "                tabla = 2\n",
    "\n",
    "            # Realizar la solicitud HTTP\n",
    "            request = requests.get(url)\n",
    "            soup = BeautifulSoup(request.text, 'html.parser')\n",
    "\n",
    "            # Extracción de datos de la tabla HTML\n",
    "            tabla_html = soup.find_all(\"table\")[tabla]\n",
    "            datos_tabla = pd.read_html(str(tabla_html))[0]\n",
    "\n",
    "            # Exportar los datos de la tabla a un archivo CSV\n",
    "            datos_tabla.to_csv(archivo_csv, index=None, header=True)\n",
    "\n",
    "            # Leer los datos del archivo CSV\n",
    "            datos_csv = pd.read_csv(archivo_csv)\n",
    "            print(datos_csv.head())\n",
    "\n",
    "            # Solicitar la proyección a días en el futuro\n",
    "            projection_days = validate_input(\n",
    "                \"Proyección a días en el futuro: \",\n",
    "                int,\n",
    "                lambda x: x > 0,\n",
    "                \"No se puede proyectar menos de 1 día en el futuro. Por favor, inténtelo de nuevo.\"\n",
    "            )\n",
    "            \n",
    "            #Transformar el archivo CSV           \n",
    "            transform_csv(archivo_csv, output_file, cripto)\n",
    "\n",
    "            # Procesamiento de datos y predicciones\n",
    "            Table = load_and_preprocess_data(output_file, projection_days)\n",
    "            X_Table, y_Table = create_datasets(Table, projection_days)\n",
    "            pred_Table, score = train_and_predict(X_Table, y_Table, projection_days)\n",
    "            future_df = create_future_dataframe(Table, pred_Table, projection_days)\n",
    "\n",
    "            # Visualización y conclusión\n",
    "            visualize_data(Table, future_df, \"Proyección Dolar\")\n",
    "            conclusion(score, pred_Table)\n",
    "        \n",
    "        elif option == 4:\n",
    "            #En caso de finalizar cerrar el programa\n",
    "            print(\"Saliendo...\")\n",
    "            break\n",
    "\n",
    "if __name__ == \"__main__\":\n",
    "    main()"
   ]
  },
  {
   "attachments": {
    "image-2.png": {
     "image/png": "[encoded data removed]"
    },
    "image.png": {
     "image/png": "[encoded data removed]"
    }
   },
   "cell_type": "markdown",
   "metadata": {},
   "source": [
    "Se recominda antes de realizar la sección 1 sobre criptomonedas descargar datos recientes, ya que el sistema de scraping no funciono para dicha sección. \n",
    "\n",
    "A continuación se dejan algunos links para fasilitar la descarga:\n",
    "\n",
    "https://es.investing.com/crypto/bitcoin/historical-data\n",
    "\n",
    "https://es.investing.com/crypto/ethereum/historical-data\n",
    "\n",
    "Cualquier criptomoneda que siga dicha estructura: https://es.investing.com/crypto/{cripto}/historical-data\n",
    "\n",
    "Una vez realizado ir a la sección de fechas y seleccionar una fecha algo lejana (se recomindan 10 años)\n",
    "\n",
    "![image.png](attachment:image.png)\n",
    "\n",
    "Y despues darle al boton descargar. \n",
    "\n",
    "![image-2.png](attachment:image-2.png)"
   ]
  },
  {
   "cell_type": "markdown",
   "metadata": {},
   "source": [
    "NOTA: NO ME HAGO RESPONSABLE POR DECISIONES FINANCIERAS TOMADAS AL FINALIZAR DE LEER DICHO ARCHIVO."
   ]
  }
 ],
 "metadata": {
  "kernelspec": {
   "display_name": "Python 3",
   "language": "python",
   "name": "python3"
  },
  "language_info": {
   "codemirror_mode": {
    "name": "ipython",
    "version": 3
   },
   "file_extension": ".py",
   "mimetype": "text/x-python",
   "name": "python",
   "nbconvert_exporter": "python",
   "pygments_lexer": "ipython3",
   "version": "3.12.4"
  }
 },
 "nbformat": 4,
 "nbformat_minor": 2
}
