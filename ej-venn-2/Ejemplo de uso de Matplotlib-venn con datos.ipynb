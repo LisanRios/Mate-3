{
 "cells": [
  {
   "cell_type": "markdown",
   "id": "61f2434e",
   "metadata": {},
   "source": [
    "### Ejemplo de uso de Matplotlib-venn con datos"
   ]
  },
  {
   "cell_type": "markdown",
   "id": "16700e0c",
   "metadata": {},
   "source": [
    "Python y R son los lenguajes de código abierto más utilizados para la ciencia de la información y el aprendizaje automático. Si bien ambos lenguajes tienen sus propias ventajas y desventajas, depende del propósito al seleccionar un lenguaje. El ejemplo siguiente se basa en datos recolectados de profesionales que utilizan uno o ambos de éstos lenguajes."
   ]
  },
  {
   "cell_type": "code",
   "execution_count": 8,
   "id": "bd07c2c0",
   "metadata": {},
   "outputs": [
    {
     "ename": "ModuleNotFoundError",
     "evalue": "No module named 'pandas'",
     "output_type": "error",
     "traceback": [
      "\u001b[1;31m---------------------------------------------------------------------------\u001b[0m",
      "\u001b[1;31mModuleNotFoundError\u001b[0m                       Traceback (most recent call last)",
      "Cell \u001b[1;32mIn[8], line 1\u001b[0m\n\u001b[1;32m----> 1\u001b[0m \u001b[38;5;28;01mimport\u001b[39;00m \u001b[38;5;21;01mpandas\u001b[39;00m \u001b[38;5;28;01mas\u001b[39;00m \u001b[38;5;21;01mpd\u001b[39;00m\n\u001b[0;32m      2\u001b[0m \u001b[38;5;28;01mfrom\u001b[39;00m \u001b[38;5;21;01mmatplotlib_venn\u001b[39;00m \u001b[38;5;28;01mimport\u001b[39;00m venn2\n\u001b[0;32m      3\u001b[0m \u001b[38;5;28;01mimport\u001b[39;00m \u001b[38;5;21;01mmatplotlib\u001b[39;00m\u001b[38;5;21;01m.\u001b[39;00m\u001b[38;5;21;01mpyplot\u001b[39;00m \u001b[38;5;28;01mas\u001b[39;00m \u001b[38;5;21;01mplt\u001b[39;00m\n",
      "\u001b[1;31mModuleNotFoundError\u001b[0m: No module named 'pandas'"
     ]
    }
   ],
   "source": [
    "import pandas as pd\n",
    "from matplotlib_venn import venn2\n",
    "import matplotlib.pyplot as plt\n",
    "\n",
    "import warnings\n",
    "warnings.filterwarnings('ignore')\n",
    "\n",
    "mc=pd.read_csv('multipleChoiceResponses.csv',encoding='ISO-8859-1')\n",
    "cr=pd.read_csv('conversionRates.csv')\n",
    "cr.drop('Unnamed: 0',axis=1,inplace=True)\n",
    "resp=mc.dropna(subset=['WorkToolsSelect'])\n",
    "resp=resp.merge(cr,left_on='CompensationCurrency',right_on='originCountry',how='left')\n",
    "python=resp[(resp['WorkToolsSelect'].str.contains('Python'))&(~resp['WorkToolsSelect'].str.contains('R'))]\n",
    "R=resp[(~resp['WorkToolsSelect'].str.contains('Python'))&(resp['WorkToolsSelect'].str.contains('R'))]\n",
    "both=resp[(resp['WorkToolsSelect'].str.contains('Python'))&(resp['WorkToolsSelect'].str.contains('R'))]\n",
    "\n",
    "f,ax=plt.subplots(1,2,figsize=(10,7))\n",
    "pd.Series([python.shape[0],R.shape[0],both.shape[0]],index=['Python','R','Ambos']).plot.bar(ax=ax[0])\n",
    "ax[0].set_title('Número de usuarios')\n",
    "venn2(subsets = (python.shape[0],R.shape[0],both.shape[0]), set_labels = ('Python Users', 'R Users'))\n",
    "plt.title('Diagrama de Venn de usuarios')\n",
    "plt.show()"
   ]
  }
 ],
 "metadata": {
  "kernelspec": {
   "display_name": "Python 3 (ipykernel)",
   "language": "python",
   "name": "python3"
  },
  "language_info": {
   "codemirror_mode": {
    "name": "ipython",
    "version": 3
   },
   "file_extension": ".py",
   "mimetype": "text/x-python",
   "name": "python",
   "nbconvert_exporter": "python",
   "pygments_lexer": "ipython3",
   "version": "3.12.2"
  }
 },
 "nbformat": 4,
 "nbformat_minor": 5
}
