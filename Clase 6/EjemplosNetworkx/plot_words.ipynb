{
 "cells": [
  {
   "cell_type": "code",
   "execution_count": 1,
   "metadata": {},
   "outputs": [],
   "source": [
    "%matplotlib inline"
   ]
  },
  {
   "cell_type": "markdown",
   "metadata": {},
   "source": [
    "\n",
    "# Words/Ladder Graph\n",
    "\n",
    "Generate  an undirected graph over the 5757 5-letter words in the datafile\n",
    "`words_dat.txt.gz`.  Two words are connected by an edge if they differ in one\n",
    "letter, resulting in 14,135 edges. This example is described in Section 1.1 of\n",
    "\n",
    "    Donald E. Knuth, \"The Stanford GraphBase: A Platform for Combinatorial\n",
    "    Computing\", ACM Press, New York, 1993.\n",
    "    http://www-cs-faculty.stanford.edu/~knuth/sgb.html\n",
    "\n",
    "The data file can be found at:\n",
    "\n",
    "- https://github.com/networkx/networkx/blob/main/examples/graph/words_dat.txt.gz\n"
   ]
  },
  {
   "cell_type": "code",
   "execution_count": 1,
   "metadata": {},
   "outputs": [
    {
     "ename": "ModuleNotFoundError",
     "evalue": "No module named 'networkx'",
     "output_type": "error",
     "traceback": [
      "\u001b[1;31m---------------------------------------------------------------------------\u001b[0m",
      "\u001b[1;31mModuleNotFoundError\u001b[0m                       Traceback (most recent call last)",
      "Cell \u001b[1;32mIn[1], line 5\u001b[0m\n\u001b[0;32m      2\u001b[0m \u001b[38;5;28;01mfrom\u001b[39;00m \u001b[38;5;21;01mstring\u001b[39;00m \u001b[38;5;28;01mimport\u001b[39;00m ascii_lowercase \u001b[38;5;28;01mas\u001b[39;00m lowercase\n\u001b[0;32m      4\u001b[0m \u001b[38;5;28;01mimport\u001b[39;00m \u001b[38;5;21;01mmatplotlib\u001b[39;00m\u001b[38;5;21;01m.\u001b[39;00m\u001b[38;5;21;01mpyplot\u001b[39;00m \u001b[38;5;28;01mas\u001b[39;00m \u001b[38;5;21;01mplt\u001b[39;00m\n\u001b[1;32m----> 5\u001b[0m \u001b[38;5;28;01mimport\u001b[39;00m \u001b[38;5;21;01mnetworkx\u001b[39;00m \u001b[38;5;28;01mas\u001b[39;00m \u001b[38;5;21;01mnx\u001b[39;00m\n\u001b[0;32m      8\u001b[0m \u001b[38;5;28;01mdef\u001b[39;00m \u001b[38;5;21mgenerate_graph\u001b[39m(words):\n\u001b[0;32m      9\u001b[0m     G \u001b[38;5;241m=\u001b[39m nx\u001b[38;5;241m.\u001b[39mGraph(name\u001b[38;5;241m=\u001b[39m\u001b[38;5;124m\"\u001b[39m\u001b[38;5;124mwords\u001b[39m\u001b[38;5;124m\"\u001b[39m)\n",
      "\u001b[1;31mModuleNotFoundError\u001b[0m: No module named 'networkx'"
     ]
    }
   ],
   "source": [
    "import gzip\n",
    "from string import ascii_lowercase as lowercase\n",
    "\n",
    "import matplotlib.pyplot as plt\n",
    "import networkx as nx\n",
    "\n",
    "\n",
    "def generate_graph(words):\n",
    "    G = nx.Graph(name=\"words\")\n",
    "    lookup = {c: lowercase.index(c) for c in lowercase}\n",
    "\n",
    "    def edit_distance_one(word):\n",
    "        for i in range(len(word)):\n",
    "            left, c, right = word[0:i], word[i], word[i + 1 :]\n",
    "            j = lookup[c]  # lowercase.index(c)\n",
    "            for cc in lowercase[j + 1 :]:\n",
    "                yield left + cc + right\n",
    "\n",
    "    candgen = (\n",
    "        (word, cand)\n",
    "        for word in sorted(words)\n",
    "        for cand in edit_distance_one(word)\n",
    "        if cand in words\n",
    "    )\n",
    "    G.add_nodes_from(words)\n",
    "    for word, cand in candgen:\n",
    "        G.add_edge(word, cand)\n",
    "    return G\n",
    "\n",
    "\n",
    "def words_graph():\n",
    "    \"\"\"Return the words example graph from the Stanford GraphBase\"\"\"\n",
    "    fh = gzip.open(\"words_dat.txt.gz\", \"r\")\n",
    "    words = set()\n",
    "    for line in fh.readlines():\n",
    "        line = line.decode()\n",
    "        if line.startswith(\"*\"):\n",
    "            continue\n",
    "        w = str(line[0:5])\n",
    "        words.add(w)\n",
    "    return generate_graph(words)\n",
    "\n",
    "\n",
    "G = words_graph()\n",
    "print(\"Loaded words_dat.txt containing 5757 five-letter English words.\")\n",
    "print(\"Two words are connected if they differ in one letter.\")\n",
    "print(G)\n",
    "print(f\"{nx.number_connected_components(G)} connected components\")\n",
    "\n",
    "for (source, target) in [(\"chaos\", \"order\"), (\"nodes\", \"graph\"), (\"pound\", \"marks\")]:\n",
    "    print(f\"Shortest path between {source} and {target} is\")\n",
    "    try:\n",
    "        shortest_path = nx.shortest_path(G, source, target)\n",
    "        for n in shortest_path:\n",
    "            print(n)\n",
    "    except nx.NetworkXNoPath:\n",
    "        print(\"None\")\n",
    "\n",
    "\n",
    "# draw a subset of the graph\n",
    "boundary = list(nx.node_boundary(G, shortest_path))\n",
    "G.add_nodes_from(shortest_path, color=\"red\")\n",
    "G.add_nodes_from(boundary, color=\"blue\")\n",
    "H = G.subgraph(shortest_path + boundary)\n",
    "colors = nx.get_node_attributes(H, \"color\")\n",
    "options = {\n",
    "    \"node_size\": 1500,\n",
    "    \"alpha\": 0.3,\n",
    "    \"node_color\": colors.values(),\n",
    "}\n",
    "pos = nx.kamada_kawai_layout(H)\n",
    "nx.draw(H, pos, **options)\n",
    "nx.draw_networkx_labels(H, pos, font_weight=\"bold\")\n",
    "plt.show()"
   ]
  }
 ],
 "metadata": {
  "kernelspec": {
   "display_name": "Python 3 (ipykernel)",
   "language": "python",
   "name": "python3"
  },
  "language_info": {
   "codemirror_mode": {
    "name": "ipython",
    "version": 3
   },
   "file_extension": ".py",
   "mimetype": "text/x-python",
   "name": "python",
   "nbconvert_exporter": "python",
   "pygments_lexer": "ipython3",
   "version": "3.12.2"
  }
 },
 "nbformat": 4,
 "nbformat_minor": 1
}
