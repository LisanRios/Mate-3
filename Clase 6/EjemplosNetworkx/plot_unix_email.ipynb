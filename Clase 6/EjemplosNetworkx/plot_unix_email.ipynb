{
 "cells": [
  {
   "cell_type": "code",
   "execution_count": 1,
   "metadata": {},
   "outputs": [],
   "source": [
    "%matplotlib inline"
   ]
  },
  {
   "cell_type": "markdown",
   "metadata": {},
   "source": [
    "\n",
    "# Unix Email\n",
    "\n",
    "Create a directed graph, allowing multiple edges and self loops, from a unix\n",
    "mailbox.  The nodes are email addresses with links that point from the sender\n",
    "to the receivers.  The edge data is a Python email.Message object which\n",
    "contains all of the email message data.\n",
    "\n",
    "This example shows the power of `DiGraph` to hold edge data of arbitrary Python\n",
    "objects (in this case a list of email messages).\n",
    "\n",
    "\n",
    "The sample unix email mailbox called \"unix_email.mbox\" may be found here:\n",
    "\n",
    "- https://github.com/networkx/networkx/blob/main/examples/drawing/unix_email.mbox\n"
   ]
  },
  {
   "cell_type": "code",
   "execution_count": 2,
   "metadata": {},
   "outputs": [
    {
     "name": "stdout",
     "output_type": "stream",
     "text": [
      "From: alice@edu To: bob@gov Subject: NetworkX\n",
      "From: bob@gov To: alice@edu Subject: Re: NetworkX\n",
      "From: bob@gov To: ted@com Subject: Re: Graph package in Python?\n",
      "From: ted@com To: bob@gov Subject: Graph package in Python?\n",
      "From: ted@com To: bob@gov Subject: get together for lunch to discuss Networks?\n",
      "From: ted@com To: carol@gov Subject: get together for lunch to discuss Networks?\n",
      "From: ted@com To: alice@edu Subject: get together for lunch to discuss Networks?\n"
     ]
    },
    {
     "data": {
      "image/png": "[encoded data removed]",
      "text/plain": [
       "<Figure size 432x288 with 1 Axes>"
      ]
     },
     "metadata": {},
     "output_type": "display_data"
    }
   ],
   "source": [
    "from email.utils import getaddresses, parseaddr\n",
    "import mailbox\n",
    "\n",
    "import matplotlib.pyplot as plt\n",
    "import networkx as nx\n",
    "\n",
    "# unix mailbox recipe\n",
    "# see https://docs.python.org/3/library/mailbox.html\n",
    "\n",
    "\n",
    "def mbox_graph():\n",
    "    mbox = mailbox.mbox(\"unix_email.mbox\")  # parse unix mailbox\n",
    "\n",
    "    G = nx.MultiDiGraph()  # create empty graph\n",
    "\n",
    "    # parse each messages and build graph\n",
    "    for msg in mbox:  # msg is python email.Message.Message object\n",
    "        (source_name, source_addr) = parseaddr(msg[\"From\"])  # sender\n",
    "        # get all recipients\n",
    "        # see https://docs.python.org/3/library/email.html\n",
    "        tos = msg.get_all(\"to\", [])\n",
    "        ccs = msg.get_all(\"cc\", [])\n",
    "        resent_tos = msg.get_all(\"resent-to\", [])\n",
    "        resent_ccs = msg.get_all(\"resent-cc\", [])\n",
    "        all_recipients = getaddresses(tos + ccs + resent_tos + resent_ccs)\n",
    "        # now add the edges for this mail message\n",
    "        for (target_name, target_addr) in all_recipients:\n",
    "            G.add_edge(source_addr, target_addr, message=msg)\n",
    "\n",
    "    return G\n",
    "\n",
    "\n",
    "G = mbox_graph()\n",
    "\n",
    "# print edges with message subject\n",
    "for (u, v, d) in G.edges(data=True):\n",
    "    print(f\"From: {u} To: {v} Subject: {d['message']['Subject']}\")\n",
    "\n",
    "pos = nx.spring_layout(G, iterations=10, seed=227)\n",
    "nx.draw(G, pos, node_size=0, alpha=0.4, edge_color=\"r\", font_size=16, with_labels=True)\n",
    "ax = plt.gca()\n",
    "ax.margins(0.08)\n",
    "plt.show()"
   ]
  }
 ],
 "metadata": {
  "kernelspec": {
   "display_name": "Python 3 (ipykernel)",
   "language": "python",
   "name": "python3"
  },
  "language_info": {
   "codemirror_mode": {
    "name": "ipython",
    "version": 3
   },
   "file_extension": ".py",
   "mimetype": "text/x-python",
   "name": "python",
   "nbconvert_exporter": "python",
   "pygments_lexer": "ipython3",
   "version": "3.9.12"
  }
 },
 "nbformat": 4,
 "nbformat_minor": 1
}
